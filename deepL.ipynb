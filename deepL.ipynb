{
  "nbformat": 4,
  "nbformat_minor": 0,
  "metadata": {
    "colab": {
      "name": "deepL.ipynb",
      "version": "0.3.2",
      "provenance": [],
      "collapsed_sections": [],
      "include_colab_link": true
    },
    "kernelspec": {
      "name": "python3",
      "display_name": "Python 3"
    }
  },
  "cells": [
    {
      "cell_type": "markdown",
      "metadata": {
        "id": "view-in-github",
        "colab_type": "text"
      },
      "source": [
        "<a href=\"https://colab.research.google.com/github/Rohit-Kmr/googlecolab/blob/master/deepL.ipynb\" target=\"_parent\"><img src=\"https://colab.research.google.com/assets/colab-badge.svg\" alt=\"Open In Colab\"/></a>"
      ]
    },
    {
      "metadata": {
        "id": "iOlM7hjHICiW",
        "colab_type": "code",
        "colab": {
          "base_uri": "https://localhost:8080/",
          "height": 118
        },
        "outputId": "e1514ff4-5414-42b9-ff4c-a2e3fe4ae2cf"
      },
      "cell_type": "code",
      "source": [
        "!git clone https://github.com/tensorflow/tensorflow.git"
      ],
      "execution_count": 1,
      "outputs": [
        {
          "output_type": "stream",
          "text": [
            "Cloning into 'tensorflow'...\n",
            "remote: Enumerating objects: 533735, done.\u001b[K\n",
            "remote: Total 533735 (delta 0), reused 0 (delta 0), pack-reused 533735\u001b[K\n",
            "Receiving objects: 100% (533735/533735), 309.43 MiB | 26.76 MiB/s, done.\n",
            "Resolving deltas: 100% (429130/429130), done.\n",
            "Checking out files: 100% (16321/16321), done.\n"
          ],
          "name": "stdout"
        }
      ]
    },
    {
      "metadata": {
        "id": "amQv5sRcI03E",
        "colab_type": "code",
        "colab": {
          "base_uri": "https://localhost:8080/",
          "height": 34
        },
        "outputId": "9343c0ff-e2ce-453d-d35a-9221f8d49791"
      },
      "cell_type": "code",
      "source": [
        "ls ."
      ],
      "execution_count": 4,
      "outputs": [
        {
          "output_type": "stream",
          "text": [
            "\u001b[0m\u001b[01;34mdrive\u001b[0m/  \u001b[01;34msample_data\u001b[0m/  \u001b[01;34mtensorflow\u001b[0m/\n"
          ],
          "name": "stdout"
        }
      ]
    }
  ]
}